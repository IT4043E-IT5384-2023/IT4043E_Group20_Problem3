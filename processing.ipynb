{
 "cells": [
  {
   "cell_type": "code",
   "execution_count": 43,
   "metadata": {},
   "outputs": [],
   "source": [
    "import os\n",
    "import glob\n",
    "import json\n",
    "import numpy as np\n",
    "from sklearn.ensemble import RandomForestClassifier\n",
    "from elasticsearch import Elasticsearch\n",
    "import pandas as pd\n",
    "import json\n",
    "import pickle\n",
    "from elasticsearch.helpers import bulk"
   ]
  },
  {
   "cell_type": "code",
   "execution_count": 5,
   "metadata": {},
   "outputs": [],
   "source": [
    "df = pd.DataFrame({\n",
    "        'id' : pd.Series(dtype='str'),\n",
    "        'username' : pd.Series(dtype='str'),\n",
    "        'created_at' : pd.Series(dtype='str'),\n",
    "        'favourites_count': pd.Series(dtype='float'),\n",
    "        'followers_count': pd.Series(dtype='float'),\n",
    "        'friends_count' : pd.Series(dtype='float'),\n",
    "        'tweet_id' : pd.Series(dtype='str'),\n",
    "        'created_on' : pd.Series(dtype='float'),\n",
    "        'text' : pd.Series(dtype='str'),\n",
    "        'is_retweet': pd.Series(dtype='float'),\n",
    "        'reply_count' : pd.Series(dtype='float'),\n",
    "        'quote_count' : pd.Series(dtype='float'),\n",
    "        'bookmark_count' : pd.Series(dtype='float'),\n",
    "        'likes': pd.Series(dtype='float'),\n",
    "        'retweet_count' : pd.Series(dtype='float')\n",
    "    })\n",
    "\n",
    "for file in glob.glob(os.path.join('processed_data', '**/*.json'), recursive=True):\n",
    "    with open(file, 'r', encoding='utf-8') as f:\n",
    "        df = pd.concat((df, pd.DataFrame(json.load(f), index=[0])), ignore_index=True)"
   ]
  },
  {
   "cell_type": "code",
   "execution_count": 6,
   "metadata": {},
   "outputs": [
    {
     "name": "stderr",
     "output_type": "stream",
     "text": [
      "C:\\Users\\dangn\\AppData\\Local\\Temp\\ipykernel_3768\\1035889834.py:1: FutureWarning: The provided callable <function mean at 0x000001FA70328F70> is currently using SeriesGroupBy.mean. In a future version of pandas, the provided callable will be used directly. To keep current behavior pass the string \"mean\" instead.\n",
      "  df_agg = df.groupby(by='id').aggregate({\n"
     ]
    }
   ],
   "source": [
    "df_agg = df.groupby(by='id').aggregate({\n",
    "    'username' : 'first',\n",
    "    'created_at' : 'first',\n",
    "    'favourites_count': np.mean,\n",
    "    'followers_count': np.mean,\n",
    "    'friends_count' : np.mean,\n",
    "    'created_on' : lambda x: len(x)/(np.max(x) - np.min(x) + 1),\n",
    "    'is_retweet': np.mean,\n",
    "    'reply_count' : np.mean,\n",
    "    'quote_count' : np.mean,\n",
    "    'bookmark_count' : np.mean,\n",
    "    'likes': np.mean,\n",
    "    'retweet_count' : np.mean,\n",
    "}).rename(columns={\n",
    "    'created_on' : 'tweet_frequency',\n",
    "    'is_retweet': 'retweet_rate',\n",
    "    'reply_count' : 'mean_reply_count',\n",
    "    'quote_count' : 'mean_quote_count',\n",
    "    'bookmark_count' : 'mean_bookmark_count',\n",
    "    'likes': 'mean_likes',\n",
    "    'retweet_count' : 'mean_retweet_count',\n",
    "}).reset_index()"
   ]
  },
  {
   "cell_type": "code",
   "execution_count": 7,
   "metadata": {},
   "outputs": [],
   "source": [
    "with open('model', 'rb') as f:\n",
    "    model = pickle.load(f)"
   ]
  },
  {
   "cell_type": "code",
   "execution_count": 8,
   "metadata": {},
   "outputs": [],
   "source": [
    "pred = model.predict(df_agg.iloc[:, 3:])\n",
    "df_out = pd.concat((df_agg, pd.DataFrame({'quality' : pred})), axis=1)"
   ]
  },
  {
   "cell_type": "code",
   "execution_count": 9,
   "metadata": {},
   "outputs": [
    {
     "data": {
      "text/html": [
       "<div>\n",
       "<style scoped>\n",
       "    .dataframe tbody tr th:only-of-type {\n",
       "        vertical-align: middle;\n",
       "    }\n",
       "\n",
       "    .dataframe tbody tr th {\n",
       "        vertical-align: top;\n",
       "    }\n",
       "\n",
       "    .dataframe thead th {\n",
       "        text-align: right;\n",
       "    }\n",
       "</style>\n",
       "<table border=\"1\" class=\"dataframe\">\n",
       "  <thead>\n",
       "    <tr style=\"text-align: right;\">\n",
       "      <th></th>\n",
       "      <th>id</th>\n",
       "      <th>username</th>\n",
       "      <th>created_at</th>\n",
       "      <th>favourites_count</th>\n",
       "      <th>followers_count</th>\n",
       "      <th>friends_count</th>\n",
       "      <th>tweet_frequency</th>\n",
       "      <th>retweet_rate</th>\n",
       "      <th>mean_reply_count</th>\n",
       "      <th>mean_quote_count</th>\n",
       "      <th>mean_bookmark_count</th>\n",
       "      <th>mean_likes</th>\n",
       "      <th>mean_retweet_count</th>\n",
       "      <th>quality</th>\n",
       "    </tr>\n",
       "  </thead>\n",
       "  <tbody>\n",
       "    <tr>\n",
       "      <th>0</th>\n",
       "      <td>1233895865011593216</td>\n",
       "      <td>NFTDegenNSM</td>\n",
       "      <td>2020-02-29T23:24:51.000Z</td>\n",
       "      <td>8076.000000</td>\n",
       "      <td>107554.0</td>\n",
       "      <td>3437.0</td>\n",
       "      <td>1.431576</td>\n",
       "      <td>0.203390</td>\n",
       "      <td>0.0</td>\n",
       "      <td>0.0</td>\n",
       "      <td>0.152542</td>\n",
       "      <td>101.186441</td>\n",
       "      <td>0.0</td>\n",
       "      <td>0</td>\n",
       "    </tr>\n",
       "    <tr>\n",
       "      <th>1</th>\n",
       "      <td>1444655950116401158</td>\n",
       "      <td>nftjuno</td>\n",
       "      <td>2021-10-03T13:30:11.000Z</td>\n",
       "      <td>6113.000000</td>\n",
       "      <td>55208.0</td>\n",
       "      <td>404.0</td>\n",
       "      <td>0.766494</td>\n",
       "      <td>0.066667</td>\n",
       "      <td>0.0</td>\n",
       "      <td>0.0</td>\n",
       "      <td>0.133333</td>\n",
       "      <td>76.900000</td>\n",
       "      <td>0.0</td>\n",
       "      <td>0</td>\n",
       "    </tr>\n",
       "    <tr>\n",
       "      <th>2</th>\n",
       "      <td>1674781645810049024</td>\n",
       "      <td>Akraieth</td>\n",
       "      <td>2023-06-30T14:07:45.000Z</td>\n",
       "      <td>21910.333333</td>\n",
       "      <td>2139.0</td>\n",
       "      <td>5001.0</td>\n",
       "      <td>4.849138</td>\n",
       "      <td>0.116667</td>\n",
       "      <td>0.0</td>\n",
       "      <td>0.0</td>\n",
       "      <td>0.000000</td>\n",
       "      <td>27.600000</td>\n",
       "      <td>0.0</td>\n",
       "      <td>0</td>\n",
       "    </tr>\n",
       "    <tr>\n",
       "      <th>3</th>\n",
       "      <td>1689966317254631424</td>\n",
       "      <td>benny_ben5</td>\n",
       "      <td>2023-08-11T11:45:56.000Z</td>\n",
       "      <td>1433.000000</td>\n",
       "      <td>77.0</td>\n",
       "      <td>83.0</td>\n",
       "      <td>27.931034</td>\n",
       "      <td>0.966667</td>\n",
       "      <td>0.0</td>\n",
       "      <td>0.0</td>\n",
       "      <td>0.083333</td>\n",
       "      <td>0.133333</td>\n",
       "      <td>0.0</td>\n",
       "      <td>1</td>\n",
       "    </tr>\n",
       "    <tr>\n",
       "      <th>4</th>\n",
       "      <td>1702231087110627328</td>\n",
       "      <td>novainscription</td>\n",
       "      <td>2023-09-14T08:02:11.000Z</td>\n",
       "      <td>50.000000</td>\n",
       "      <td>2185.0</td>\n",
       "      <td>56.0</td>\n",
       "      <td>6.151899</td>\n",
       "      <td>0.583333</td>\n",
       "      <td>0.0</td>\n",
       "      <td>0.0</td>\n",
       "      <td>0.027778</td>\n",
       "      <td>2.583333</td>\n",
       "      <td>0.0</td>\n",
       "      <td>2</td>\n",
       "    </tr>\n",
       "  </tbody>\n",
       "</table>\n",
       "</div>"
      ],
      "text/plain": [
       "                    id         username                created_at  \\\n",
       "0  1233895865011593216      NFTDegenNSM  2020-02-29T23:24:51.000Z   \n",
       "1  1444655950116401158          nftjuno  2021-10-03T13:30:11.000Z   \n",
       "2  1674781645810049024         Akraieth  2023-06-30T14:07:45.000Z   \n",
       "3  1689966317254631424       benny_ben5  2023-08-11T11:45:56.000Z   \n",
       "4  1702231087110627328  novainscription  2023-09-14T08:02:11.000Z   \n",
       "\n",
       "   favourites_count  followers_count  friends_count  tweet_frequency  \\\n",
       "0       8076.000000         107554.0         3437.0         1.431576   \n",
       "1       6113.000000          55208.0          404.0         0.766494   \n",
       "2      21910.333333           2139.0         5001.0         4.849138   \n",
       "3       1433.000000             77.0           83.0        27.931034   \n",
       "4         50.000000           2185.0           56.0         6.151899   \n",
       "\n",
       "   retweet_rate  mean_reply_count  mean_quote_count  mean_bookmark_count  \\\n",
       "0      0.203390               0.0               0.0             0.152542   \n",
       "1      0.066667               0.0               0.0             0.133333   \n",
       "2      0.116667               0.0               0.0             0.000000   \n",
       "3      0.966667               0.0               0.0             0.083333   \n",
       "4      0.583333               0.0               0.0             0.027778   \n",
       "\n",
       "   mean_likes  mean_retweet_count  quality  \n",
       "0  101.186441                 0.0        0  \n",
       "1   76.900000                 0.0        0  \n",
       "2   27.600000                 0.0        0  \n",
       "3    0.133333                 0.0        1  \n",
       "4    2.583333                 0.0        2  "
      ]
     },
     "metadata": {},
     "output_type": "display_data"
    }
   ],
   "source": [
    "display(df_out)"
   ]
  },
  {
   "cell_type": "code",
   "execution_count": 48,
   "metadata": {},
   "outputs": [
    {
     "name": "stderr",
     "output_type": "stream",
     "text": [
      "c:\\Users\\dangn\\Documents\\trash\\lib\\site-packages\\elasticsearch\\_sync\\client\\__init__.py:397: SecurityWarning: Connecting to 'https://192.168.0.110:9200' using TLS with verify_certs=False is insecure\n",
      "  _transport = transport_class(\n"
     ]
    }
   ],
   "source": [
    "client = Elasticsearch('https://192.168.0.110:9200', basic_auth=('elastic', '=3BF3=bAwQ7363H9dUdY'), verify_certs=False)"
   ]
  },
  {
   "cell_type": "code",
   "execution_count": 50,
   "metadata": {},
   "outputs": [
    {
     "name": "stderr",
     "output_type": "stream",
     "text": [
      "c:\\Users\\dangn\\Documents\\trash\\lib\\site-packages\\urllib3\\connectionpool.py:1099: InsecureRequestWarning: Unverified HTTPS request is being made to host '192.168.0.110'. Adding certificate verification is strongly advised. See: https://urllib3.readthedocs.io/en/latest/advanced-usage.html#tls-warnings\n",
      "  warnings.warn(\n"
     ]
    },
    {
     "data": {
      "text/plain": [
       "ObjectApiResponse({'name': 'faa6812381b8', 'cluster_name': 'docker-cluster', 'cluster_uuid': 'kpa1miRwSZuWQ7MO38xtoQ', 'version': {'number': '8.11.3', 'build_flavor': 'default', 'build_type': 'docker', 'build_hash': '64cf052f3b56b1fd4449f5454cb88aca7e739d9a', 'build_date': '2023-12-08T11:33:53.634979452Z', 'build_snapshot': False, 'lucene_version': '9.8.0', 'minimum_wire_compatibility_version': '7.17.0', 'minimum_index_compatibility_version': '7.0.0'}, 'tagline': 'You Know, for Search'})"
      ]
     },
     "execution_count": 50,
     "metadata": {},
     "output_type": "execute_result"
    }
   ],
   "source": [
    "client.info()"
   ]
  },
  {
   "cell_type": "code",
   "execution_count": 51,
   "metadata": {},
   "outputs": [
    {
     "name": "stderr",
     "output_type": "stream",
     "text": [
      "c:\\Users\\dangn\\Documents\\trash\\lib\\site-packages\\urllib3\\connectionpool.py:1099: InsecureRequestWarning: Unverified HTTPS request is being made to host '192.168.0.110'. Adding certificate verification is strongly advised. See: https://urllib3.readthedocs.io/en/latest/advanced-usage.html#tls-warnings\n",
      "  warnings.warn(\n",
      "c:\\Users\\dangn\\Documents\\trash\\lib\\site-packages\\urllib3\\connectionpool.py:1099: InsecureRequestWarning: Unverified HTTPS request is being made to host '192.168.0.110'. Adding certificate verification is strongly advised. See: https://urllib3.readthedocs.io/en/latest/advanced-usage.html#tls-warnings\n",
      "  warnings.warn(\n",
      "c:\\Users\\dangn\\Documents\\trash\\lib\\site-packages\\urllib3\\connectionpool.py:1099: InsecureRequestWarning: Unverified HTTPS request is being made to host '192.168.0.110'. Adding certificate verification is strongly advised. See: https://urllib3.readthedocs.io/en/latest/advanced-usage.html#tls-warnings\n",
      "  warnings.warn(\n",
      "c:\\Users\\dangn\\Documents\\trash\\lib\\site-packages\\urllib3\\connectionpool.py:1099: InsecureRequestWarning: Unverified HTTPS request is being made to host '192.168.0.110'. Adding certificate verification is strongly advised. See: https://urllib3.readthedocs.io/en/latest/advanced-usage.html#tls-warnings\n",
      "  warnings.warn(\n",
      "c:\\Users\\dangn\\Documents\\trash\\lib\\site-packages\\urllib3\\connectionpool.py:1099: InsecureRequestWarning: Unverified HTTPS request is being made to host '192.168.0.110'. Adding certificate verification is strongly advised. See: https://urllib3.readthedocs.io/en/latest/advanced-usage.html#tls-warnings\n",
      "  warnings.warn(\n"
     ]
    },
    {
     "name": "stdout",
     "output_type": "stream",
     "text": [
      "1\n",
      "1\n",
      "1\n",
      "1\n",
      "1\n"
     ]
    }
   ],
   "source": [
    "for dict in df_out.to_dict(orient='records'):\n",
    "    client.index(\n",
    "        index='g20',\n",
    "        id=dict['id'],\n",
    "        document={key: dict[key] for key in dict if key != 'id'}\n",
    "    )"
   ]
  }
 ],
 "metadata": {
  "kernelspec": {
   "display_name": "ie",
   "language": "python",
   "name": "python3"
  },
  "language_info": {
   "codemirror_mode": {
    "name": "ipython",
    "version": 3
   },
   "file_extension": ".py",
   "mimetype": "text/x-python",
   "name": "python",
   "nbconvert_exporter": "python",
   "pygments_lexer": "ipython3",
   "version": "3.9.13"
  }
 },
 "nbformat": 4,
 "nbformat_minor": 2
}
